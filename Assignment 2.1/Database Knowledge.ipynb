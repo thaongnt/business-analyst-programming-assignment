{
 "cells": [
  {
   "cell_type": "markdown",
   "id": "1d64ad98",
   "metadata": {},
   "source": [
    "## 2. Database/SQL\n",
    "### 2.1. Database Knowledge"
   ]
  },
  {
   "cell_type": "code",
   "execution_count": null,
   "id": "7283062c",
   "metadata": {},
   "outputs": [],
   "source": [
    "%%mysql\n",
    "CREATE TABLE Users (\n",
    "    user_id INT PRIMARY KEY AUTO_INCREMENT,\n",
    "    username VARCHAR(50) NOT NULL UNIQUE,\n",
    "    first_name VARCHAR(50) NOT NULL,\n",
    "    last_name VARCHAR(50) NOT NULL,\n",
    "    user_email VARCHAR(100) NOT NULL UNIQUE,\n",
    "    user_phone VARCHAR(20),\n",
    "    registration_date DATE NOT NULL,\n",
    "    active TINYINT(1) NOT NULL DEFAULT 1\n",
    ");\n",
    "\n",
    "CREATE TABLE Sellers (\n",
    "    seller_id INT PRIMARY KEY AUTO_INCREMENT,\n",
    "    first_name VARCHAR(50) NOT NULL,\n",
    "    last_name VARCHAR(50) NOT NULL,\n",
    "    seller_email VARCHAR(100) NOT NULL UNIQUE,\n",
    "    seller_phone VARCHAR(20)\n",
    ");\n",
    "\n",
    "CREATE TABLE Products (\n",
    "    product_id INT PRIMARY KEY AUTO_INCREMENT,\n",
    "    seller_id INT NOT NULL,\n",
    "    product_name VARCHAR(100) NOT NULL,\n",
    "    description TEXT,\n",
    "    price DECIMAL(10, 2) NOT NULL,\n",
    "    stock_quantity INT NOT NULL,\n",
    "    FOREIGN KEY (seller_id) REFERENCES Sellers(seller_id)\n",
    ");\n",
    "\n",
    "CREATE TABLE Product_Reviews (\n",
    "    review_id INT PRIMARY KEY AUTO_INCREMENT,\n",
    "    user_id INT NOT NULL,\n",
    "    product_id INT NOT NULL,\n",
    "    rating DECIMAL(4,2) NOT NULL CHECK (rating >= 1 AND rating <= 5),\n",
    "    review_text TEXT,\n",
    "    review_date DATE NOT NULL,\n",
    "    FOREIGN KEY (user_id) REFERENCES Users(user_id),\n",
    "    FOREIGN KEY (product_id) REFERENCES Products(product_id)\n",
    ");"
   ]
  },
  {
   "cell_type": "markdown",
   "id": "a6a3c33f",
   "metadata": {},
   "source": [
    "#### Sample Query 1: Retrieve all products sold by a specific seller:\n",
    "This query fetches all product details associated with a given seller's name, "
   ]
  },
  {
   "cell_type": "code",
   "execution_count": null,
   "id": "c86e4c02",
   "metadata": {},
   "outputs": [],
   "source": [
    "%%mysql\n",
    "SELECT p.product_id, p.product_name, p.description, p.price, p.stock_quantity\n",
    "FROM Products p\n",
    "JOIN Sellers s ON p.seller_id = s.seller_id\n",
    "WHERE s.first_name = 'X' AND s.last_name = 'Y';  #Adjust the name as needed\n"
   ]
  },
  {
   "cell_type": "markdown",
   "id": "20aa9aa9",
   "metadata": {},
   "source": [
    "#### Sample Query 2: Find the average rating of products based on user reviews\n",
    "This query calculates the average rating for each product, also round the average rating to two decimal places."
   ]
  },
  {
   "cell_type": "code",
   "execution_count": null,
   "id": "68c05933",
   "metadata": {},
   "outputs": [],
   "source": [
    "%% mysql\n",
    "SELECT p.product_id,p.product_name, ROUND(AVG(pr.rating), 2) AS average_rating\n",
    "FROM Products p\n",
    "LEFT JOIN Product_Reviews pr ON p.product_id = pr.product_id\n",
    "GROUP BY p.product_id, p.product_name;"
   ]
  },
  {
   "cell_type": "markdown",
   "id": "e09a7aba",
   "metadata": {},
   "source": [
    "#### Sample Query 3: Find the average rating of sellers based on user reviews\n",
    "This query calculates the average rating for sellers, taking into account all reviews of products they sell."
   ]
  },
  {
   "cell_type": "code",
   "execution_count": null,
   "id": "a0c2705f",
   "metadata": {},
   "outputs": [],
   "source": [
    "%% mysql\n",
    "SELECT s.first_name, s.last_name, ROUND(AVG(pr.rating), 2) AS average_rating\n",
    "FROM Sellers s\n",
    "JOIN Products p ON s.seller_id = p.seller_id\n",
    "LEFT JOIN Product_Reviews pr ON p.product_id = pr.product_id\n",
    "GROUP BY s.seller_id, s.first_name, s.last_name;"
   ]
  }
 ],
 "metadata": {
  "kernelspec": {
   "display_name": "Python 3 (ipykernel)",
   "language": "python",
   "name": "python3"
  },
  "language_info": {
   "codemirror_mode": {
    "name": "ipython",
    "version": 3
   },
   "file_extension": ".py",
   "mimetype": "text/x-python",
   "name": "python",
   "nbconvert_exporter": "python",
   "pygments_lexer": "ipython3",
   "version": "3.9.13"
  }
 },
 "nbformat": 4,
 "nbformat_minor": 5
}
